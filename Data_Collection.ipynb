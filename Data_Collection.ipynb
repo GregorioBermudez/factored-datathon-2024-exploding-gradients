{
 "cells": [
  {
   "cell_type": "code",
   "execution_count": 1,
   "metadata": {},
   "outputs": [],
   "source": [
    "import os\n",
    "import requests              \n",
    "import pandas as pd           \n",
    "import numpy as np            \n",
    "\n",
    "from scrapy import Selector  \n",
    "from datetime import datetime\n",
    "\n",
    "import zipfile"
   ]
  },
  {
   "cell_type": "markdown",
   "metadata": {},
   "source": [
    "## GDELT 1.0 GKG Data"
   ]
  },
  {
   "cell_type": "code",
   "execution_count": null,
   "metadata": {},
   "outputs": [],
   "source": []
  },
  {
   "cell_type": "markdown",
   "metadata": {},
   "source": [
    "## GDELT 1.0 Events Data"
   ]
  },
  {
   "cell_type": "code",
   "execution_count": 5,
   "metadata": {},
   "outputs": [],
   "source": [
    "events_url = \"http://data.gdeltproject.org/events/index.html\"\n",
    "response = requests.get(events_url)\n",
    "sel = Selector(text = response.text)\n",
    "\n",
    "start_date = datetime(2023, 8, 13)\n",
    "end_date = datetime(2024, 8, 13)\n",
    "\n",
    "# Get the links as a url that can be downloaded later \n",
    "links = sel.xpath('//a/@href').extract()\n",
    "\n",
    "downloadable_links = []\n",
    "base = \"http://data.gdeltproject.org/events/\"\n",
    "for link in links:\n",
    "    if link.endswith('.zip'):\n",
    "        date_str = link.split('.')[0]\n",
    "        try:\n",
    "            file_date = datetime.strptime(date_str, \"%Y%m%d\")\n",
    "            if start_date <= file_date <= end_date:\n",
    "                downloadable_links.append(base + link)\n",
    "        except ValueError:\n",
    "            continue"
   ]
  },
  {
   "cell_type": "code",
   "execution_count": 6,
   "metadata": {},
   "outputs": [
    {
     "name": "stdout",
     "output_type": "stream",
     "text": [
      "Downloaded 20240812.export.CSV.zip to GDELT Event Files/20240812.export.CSV.zip\n",
      "Extracted 20240812.export.CSV.zip to GDELT Event Files\n",
      "Downloaded 20240811.export.CSV.zip to GDELT Event Files/20240811.export.CSV.zip\n",
      "Extracted 20240811.export.CSV.zip to GDELT Event Files\n",
      "Downloaded 20240810.export.CSV.zip to GDELT Event Files/20240810.export.CSV.zip\n",
      "Extracted 20240810.export.CSV.zip to GDELT Event Files\n",
      "Downloaded 20240809.export.CSV.zip to GDELT Event Files/20240809.export.CSV.zip\n",
      "Extracted 20240809.export.CSV.zip to GDELT Event Files\n",
      "Downloaded 20240808.export.CSV.zip to GDELT Event Files/20240808.export.CSV.zip\n",
      "Extracted 20240808.export.CSV.zip to GDELT Event Files\n",
      "Downloaded 20240807.export.CSV.zip to GDELT Event Files/20240807.export.CSV.zip\n",
      "Extracted 20240807.export.CSV.zip to GDELT Event Files\n",
      "Downloaded 20240806.export.CSV.zip to GDELT Event Files/20240806.export.CSV.zip\n",
      "Extracted 20240806.export.CSV.zip to GDELT Event Files\n",
      "Downloaded 20240805.export.CSV.zip to GDELT Event Files/20240805.export.CSV.zip\n",
      "Extracted 20240805.export.CSV.zip to GDELT Event Files\n",
      "Downloaded 20240804.export.CSV.zip to GDELT Event Files/20240804.export.CSV.zip\n",
      "Extracted 20240804.export.CSV.zip to GDELT Event Files\n",
      "Downloaded 20240803.export.CSV.zip to GDELT Event Files/20240803.export.CSV.zip\n",
      "Extracted 20240803.export.CSV.zip to GDELT Event Files\n",
      "Downloaded 20240802.export.CSV.zip to GDELT Event Files/20240802.export.CSV.zip\n",
      "Extracted 20240802.export.CSV.zip to GDELT Event Files\n",
      "Downloaded 20240801.export.CSV.zip to GDELT Event Files/20240801.export.CSV.zip\n",
      "Extracted 20240801.export.CSV.zip to GDELT Event Files\n",
      "Downloaded 20240731.export.CSV.zip to GDELT Event Files/20240731.export.CSV.zip\n",
      "Extracted 20240731.export.CSV.zip to GDELT Event Files\n"
     ]
    }
   ],
   "source": [
    "destination = \"GDELT Event Files\"\n",
    "\n",
    "os.makedirs(destination, exist_ok=True)\n",
    "\n",
    "for link in downloadable_links:\n",
    "    file_name = link.split('/')[-1]\n",
    "    file_path = os.path.join(destination, file_name)\n",
    "\n",
    "    response = requests.get(link)\n",
    "    \n",
    "    with open(file_path, 'wb') as file:\n",
    "        file.write(response.content)\n",
    "\n",
    "    print(f\"Downloaded {file_name} to {file_path}\")\n",
    "\n",
    "    # Decompress the zip file\n",
    "    with zipfile.ZipFile(file_path, 'r') as zip_ref:\n",
    "        zip_ref.extractall(destination)\n",
    "        print(f\"Extracted {file_name} to {destination}\")\n",
    "\n",
    "    # Delete the zip file after extraction\n",
    "    os.remove(file_path)\n",
    "\n",
    "print(\"All files downloaded and extracted.\")"
   ]
  }
 ],
 "metadata": {
  "kernelspec": {
   "display_name": "base",
   "language": "python",
   "name": "python3"
  },
  "language_info": {
   "codemirror_mode": {
    "name": "ipython",
    "version": 3
   },
   "file_extension": ".py",
   "mimetype": "text/x-python",
   "name": "python",
   "nbconvert_exporter": "python",
   "pygments_lexer": "ipython3",
   "version": "3.11.9"
  }
 },
 "nbformat": 4,
 "nbformat_minor": 2
}
