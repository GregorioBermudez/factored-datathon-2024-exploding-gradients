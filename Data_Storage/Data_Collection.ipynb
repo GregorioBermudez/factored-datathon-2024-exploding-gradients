{
  "cells": [
    {
      "cell_type": "code",
      "execution_count": 3,
      "metadata": {
        "id": "gZ5faohzchlO"
      },
      "outputs": [],
      "source": [
        "import os\n",
        "import requests\n",
        "import pandas as pd\n",
        "import numpy as np\n",
        "\n",
        "from scrapy import Selector\n",
        "from datetime import datetime\n",
        "\n",
        "import zipfile"
      ]
    },
    {
      "cell_type": "markdown",
      "metadata": {
        "id": "LuZiOTDqchlQ"
      },
      "source": [
        "## GDELT 1.0 GKG Data"
      ]
    },
    {
      "cell_type": "code",
      "execution_count": 4,
      "metadata": {
        "id": "Vu_rx6HGchlR"
      },
      "outputs": [],
      "source": [
        "gkg_url = 'http://data.gdeltproject.org/gkg/index.html'\n",
        "response = requests.get(gkg_url)\n",
        "sel = Selector(text = response.text)\n",
        "\n",
        "start_date = datetime(2023, 8, 13)\n",
        "end_date = datetime(2024, 8, 13)\n",
        "\n",
        "# Get the links as a url that can be downloaded later\n",
        "links = sel.xpath('//a/@href').extract()\n",
        "\n",
        "gkg_links = []\n",
        "gkgcounts_links = []\n",
        "base = \"http://data.gdeltproject.org/gkg/\"\n",
        "\n",
        "for link in links:\n",
        "    if link.endswith('.zip'):\n",
        "        date_str = link.split('.')[0]\n",
        "        try:\n",
        "            file_date = datetime.strptime(date_str, \"%Y%m%d\")\n",
        "            if start_date <= file_date <= end_date:\n",
        "                if 'gkgcounts' in link:\n",
        "                    gkgcounts_links.append(base + link)\n",
        "                else:\n",
        "                    gkg_links.append(base + link)\n",
        "        except ValueError:\n",
        "            continue"
      ]
    },
    {
      "cell_type": "code",
      "execution_count": null,
      "metadata": {},
      "outputs": [],
      "source": [
        "destination = \"GDELT GKG Files\"\n",
        "\n",
        "os.makedirs(destination, exist_ok=True)\n",
        "\n",
        "for link in gkg_links:\n",
        "    file_name = link.split('/')[-1]\n",
        "    file_path = os.path.join(destination, file_name)\n",
        "\n",
        "    response = requests.get(link)\n",
        "\n",
        "    with open(file_path, 'wb') as file:\n",
        "        file.write(response.content)\n",
        "\n",
        "    # Decompress the zip file\n",
        "    with zipfile.ZipFile(file_path, 'r') as zip_ref:\n",
        "        zip_ref.extractall(destination)\n",
        "        print(f\"Extracted {file_name} to {destination}\")\n",
        "\n",
        "    # Delete the zip file after extraction\n",
        "    os.remove(file_path)\n",
        "\n",
        "print(\"All files downloaded and extracted.\")"
      ]
    },
    {
      "cell_type": "code",
      "execution_count": null,
      "metadata": {},
      "outputs": [],
      "source": [
        "destination = \"GDELT GKG Files/gkgcounts\"\n",
        "\n",
        "os.makedirs(destination, exist_ok=True)\n",
        "\n",
        "for link in gkgcounts_links:\n",
        "    file_name = link.split('/')[-1]\n",
        "    file_path = os.path.join(destination, file_name)\n",
        "\n",
        "    response = requests.get(link)\n",
        "\n",
        "    with open(file_path, 'wb') as file:\n",
        "        file.write(response.content)\n",
        "\n",
        "    # Decompress the zip file\n",
        "    with zipfile.ZipFile(file_path, 'r') as zip_ref:\n",
        "        zip_ref.extractall(destination)\n",
        "        print(f\"Extracted {file_name} to {destination}\")\n",
        "\n",
        "    # Delete the zip file after extraction\n",
        "    os.remove(file_path)\n",
        "\n",
        "print(\"All files downloaded and extracted.\")"
      ]
    },
    {
      "cell_type": "markdown",
      "metadata": {
        "id": "ugFOICLochlS"
      },
      "source": [
        "## GDELT 1.0 Events Data"
      ]
    },
    {
      "cell_type": "code",
      "execution_count": 6,
      "metadata": {
        "id": "3sBZCFtdchlS"
      },
      "outputs": [],
      "source": [
        "events_url = \"http://data.gdeltproject.org/events/index.html\"\n",
        "response = requests.get(events_url)\n",
        "sel = Selector(text = response.text)\n",
        "\n",
        "start_date = datetime(2023, 8, 13)\n",
        "end_date = datetime(2024, 8, 13)\n",
        "\n",
        "# Get the links as a url that can be downloaded later\n",
        "links = sel.xpath('//a/@href').extract()\n",
        "\n",
        "downloadable_links = []\n",
        "base = \"http://data.gdeltproject.org/events/\"\n",
        "for link in links:\n",
        "    if link.endswith('.zip'):\n",
        "        date_str = link.split('.')[0]\n",
        "        try:\n",
        "            file_date = datetime.strptime(date_str, \"%Y%m%d\")\n",
        "            if start_date <= file_date <= end_date:\n",
        "                downloadable_links.append(base + link)\n",
        "        except ValueError:\n",
        "            continue"
      ]
    },
    {
      "cell_type": "code",
      "execution_count": null,
      "metadata": {
        "colab": {
          "base_uri": "https://localhost:8080/"
        },
        "id": "dQqUTm5NchlT",
        "outputId": "d616ac22-9543-4f73-98e7-6ed336bdfc3c"
      },
      "outputs": [],
      "source": [
        "destination = \"GDELT Event Files\"\n",
        "\n",
        "os.makedirs(destination, exist_ok=True)\n",
        "\n",
        "for link in downloadable_links:\n",
        "    file_name = link.split('/')[-1]\n",
        "    file_path = os.path.join(destination, file_name)\n",
        "\n",
        "    response = requests.get(link)\n",
        "\n",
        "    with open(file_path, 'wb') as file:\n",
        "        file.write(response.content)\n",
        "\n",
        "    # Decompress the zip file\n",
        "    with zipfile.ZipFile(file_path, 'r') as zip_ref:\n",
        "        zip_ref.extractall(destination)\n",
        "        print(f\"Extracted {file_name} to {destination}\")\n",
        "\n",
        "    # Delete the zip file after extraction\n",
        "    os.remove(file_path)\n",
        "\n",
        "print(\"All files downloaded and extracted.\")"
      ]
    },
    {
      "cell_type": "markdown",
      "metadata": {},
      "source": [
        "### Data Exploration"
      ]
    },
    {
      "cell_type": "code",
      "execution_count": 34,
      "metadata": {
        "id": "bFVH29jrgvyg"
      },
      "outputs": [],
      "source": [
        "trial = pd.read_csv(\"/content/GDELT Event Files/20230813.export.CSV\", sep= \"\\t\", header = None)"
      ]
    },
    {
      "cell_type": "code",
      "execution_count": 39,
      "metadata": {
        "id": "v6CwelPopGZK"
      },
      "outputs": [],
      "source": [
        "csv_columns = [\"gdelt_id\", \"published_date\", \"insert_date\", \"url\",\n",
        "                \"actor1_code\", \"actor1_name\", \"actor1_country_code\", \"actor1_known_group_code\", \"actor1_ethnic_code\",\n",
        "                 \"actor1_religion1_code\", \"actor1_religion2_code\", \"actor1_type1_code\", \"actor1_type2_code\",\n",
        "                 \"actor1_type3_code\", \"actor2_code\", \"actor2_name\", \"actor2_country_code\", \"actor2_known_group_code\",\n",
        "                 \"actor2_ethnic_code\", \"actor2_religion1_code\", \"actor2_religion2_code\", \"actor2_type1_code\",\n",
        "                 \"actor2_type2_code\", \"actor2_type3_code\", \"is_root_event\", \"event_code\", \"event_base_code\",\n",
        "                 \"event_root_code\", \"quad_class\", \"goldstein_scale\", \"num_mentions\", \"num_sources\", \"num_articles\",\n",
        "                 \"avg_tone\",\"actor1_geo_type\", \"actor1_geo_full_name\", \"actor1_geo_country_code\", \"actor1_geo_adm1_code\",\n",
        "                 \"actor1_geo_adm2_code\", \"actor1_geo_lat\", \"actor1_geo_long\", \"actor1_geo_feature_id\",\n",
        "                 \"actor2_geo_type\", \"actor2_geo_full_name\", \"actor2_geo_country_code\", \"actor2_geo_adm1_code\",\n",
        "                 \"actor2_geo_adm2_code\", \"actor2_geo_lat\", \"actor2_geo_long\", \"actor2_geo_feature_id\",\n",
        "                 \"action_geo_type\", \"action_geo_full_name\", \"action_geo_country_code\", \"action_geo_adm1_code\",\n",
        "                 \"action_geo_adm2_code\", \"action_geo_lat\", \"action_geo_long\", \"action_geo_feature_id\"]"
      ]
    },
    {
      "cell_type": "code",
      "execution_count": 40,
      "metadata": {
        "id": "QPCQ1HBfj9Vh"
      },
      "outputs": [],
      "source": [
        "trial.columns = csv_columns"
      ]
    }
  ],
  "metadata": {
    "colab": {
      "provenance": []
    },
    "kernelspec": {
      "display_name": "Python 3",
      "name": "python3"
    },
    "language_info": {
      "codemirror_mode": {
        "name": "ipython",
        "version": 3
      },
      "file_extension": ".py",
      "mimetype": "text/x-python",
      "name": "python",
      "nbconvert_exporter": "python",
      "pygments_lexer": "ipython3",
      "version": "3.12.0"
    }
  },
  "nbformat": 4,
  "nbformat_minor": 0
}
