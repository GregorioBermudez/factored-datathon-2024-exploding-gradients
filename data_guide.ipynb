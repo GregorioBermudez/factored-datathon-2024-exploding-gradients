{
 "cells": [
  {
   "cell_type": "markdown",
   "metadata": {},
   "source": [
    "# Guide to the data\n",
    "In this notebook I will show you how to access the data wtih Pandas.\n",
    "Here you will find:\n",
    "- How to open the file\n",
    "- The correct column names\n",
    "- An explanation of some relevant column names"
   ]
  },
  {
   "cell_type": "markdown",
   "metadata": {},
   "source": [
    "## Part 1: Reading the data\n",
    "You can use the data scraping script on a jupyter notebook or on a google colab to download the data. On google colab it runs quickly.\n",
    "After you download the data, to open the file without problems you need to do the following"
   ]
  },
  {
   "cell_type": "code",
   "execution_count": null,
   "metadata": {},
   "outputs": [],
   "source": [
    "import pandas as pd\n",
    "df = pd.read_csv('data_location.csv', sep = '\\t', header = None)"
   ]
  },
  {
   "cell_type": "markdown",
   "metadata": {},
   "source": [
    "## Part 2 Columns and explanation\n",
    "Here is a list containing all the column names and a brief explanation of the ones I found relevant. The dataset needs the column names to be assigned"
   ]
  },
  {
   "cell_type": "code",
   "execution_count": null,
   "metadata": {},
   "outputs": [],
   "source": [
    "column_names = ['global_id',\n",
    " 'day', # Date the event took place in YYYYMMDD format\n",
    " 'month_year', # Alternative formating YYYYMM\n",
    " 'year', # Year\n",
    " 'fraction_date', # Alternative formating YYYY.FFFF, where FFFF is the percentage of the year completed by that day\n",
    "# actor 1\n",
    " 'actor1_code',\n",
    " 'actor1_name', # Name of Actor 1\n",
    " 'actor1_country_code',\n",
    " 'actor1_known_group_code', # Which group the actor belongs to NGO/ IGO/ rebel group. Ex: United Nations\n",
    " 'actor1_ethnic_code',\n",
    " 'actor1_religion1_code',\n",
    " 'actor1_religion2_code',\n",
    " 'actor1_type1_code', # Type codes talk about roles, for example police forces\n",
    " 'actor1_type2_code', # goverment, military, education, elites, media, etc\n",
    " 'actor1_type3_code', # -\n",
    "# actor 2\n",
    " 'actor2_code',\n",
    " 'actor2_name', # Name of actor 2\n",
    " 'actor2_country_code',\n",
    " 'actor2_known_group_code',\n",
    " 'actor2_ethnic_code',\n",
    " 'actor2_religion1_code',\n",
    " 'actor2_religion2_code',\n",
    " 'actor2_type1_code', # Same as in actor 1\n",
    " 'actor2_type2_code', # -\n",
    " 'actor2_type3_code', # -\n",
    "# ----------------\n",
    " 'is_root_event', # Binary. Says if it is the root event. Can give insight into importance\n",
    " 'event_code',\n",
    " 'event_base_code',\n",
    " 'event_root_code',\n",
    " 'quad_class', # Event taxonomy: 1. Verbal cooperation, 2. Material Cooperation, 3. Verbal Conflict, 4. Material Conflict\n",
    " 'goldstein_scale', # Numeric score from -10 to +10 capturing potential impact that the event will have in countries stability\n",
    " 'num_mentions', # Number of mentions of the event across all documents. Can be seen as importance measure\n",
    " 'num_sources', # Number of information sources containing mentions of the event\n",
    " 'num_articles',# Number of source documents containing mentions of this event\n",
    " 'avg_tone', # Avg tone of documents that mention the event. Goes from -100 (extremely negative) to 100 (extremely positive)\n",
    "# actor 1 geo\n",
    " 'actor1_geo_type', # Maps to: 1.Country, 2. US State, 3. US City, 4. World city, 5. World State\n",
    " 'actor1_geo_full_name', # Name of location\n",
    " 'actor1_geo_country_code',\n",
    " 'actor1_geo_adm1_code',\n",
    " 'actor1_geo_lat', # Latitude\n",
    " 'actor1_geo_long', # Longitude\n",
    " 'actor1_geo_feature_id',\n",
    "# actor 2 geo\n",
    " 'actor2_geo_type', # Check actor 1\n",
    " 'actor2_geo_fullname',\n",
    " 'actor2_geo_countrycode',\n",
    " 'actor2_geo_adm1_code',\n",
    " 'actor2_geo_lat',\n",
    " 'actor2_geo_long',\n",
    " 'actor2_geo_feature_id',\n",
    "# action geo\n",
    " 'action_geo_type', # Check actor 1\n",
    " 'action2_geo_full_name',\n",
    " 'action_geo_country_code',\n",
    " 'action_geo_adm1_code',\n",
    " 'action_geo_lat',\n",
    " 'action_geo_long',\n",
    " 'action_geo_feature_id',\n",
    "# date and url\n",
    " 'date_added', # Date the event was added to master database\n",
    " 'source_url'] # URL"
   ]
  },
  {
   "cell_type": "code",
   "execution_count": null,
   "metadata": {},
   "outputs": [],
   "source": [
    "df.columns = column_names"
   ]
  },
  {
   "cell_type": "markdown",
   "metadata": {},
   "source": [
    "Now the data is ready and you can use it as you would normally with Pandas"
   ]
  },
  {
   "cell_type": "markdown",
   "metadata": {},
   "source": []
  }
 ],
 "metadata": {
  "language_info": {
   "name": "python"
  }
 },
 "nbformat": 4,
 "nbformat_minor": 2
}
